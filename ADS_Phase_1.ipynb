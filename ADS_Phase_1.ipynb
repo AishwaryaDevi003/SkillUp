{
  "nbformat": 4,
  "nbformat_minor": 0,
  "metadata": {
    "colab": {
      "provenance": [],
      "include_colab_link": true
    },
    "kernelspec": {
      "name": "python3",
      "display_name": "Python 3"
    },
    "language_info": {
      "name": "python"
    }
  },
  "cells": [
    {
      "cell_type": "markdown",
      "metadata": {
        "id": "view-in-github",
        "colab_type": "text"
      },
      "source": [
        "<a href=\"https://colab.research.google.com/github/AishwaryaDevi003/SkillUp/blob/main/ADS_Phase_1.ipynb\" target=\"_parent\"><img src=\"https://colab.research.google.com/assets/colab-badge.svg\" alt=\"Open In Colab\"/></a>"
      ]
    },
    {
      "cell_type": "code",
      "source": [],
      "metadata": {
        "id": "WsRw4vjSucvB"
      },
      "execution_count": null,
      "outputs": []
    },
    {
      "cell_type": "markdown",
      "source": [
        "Importing and reading the CSV file"
      ],
      "metadata": {
        "id": "VEidsXkdfO81"
      }
    },
    {
      "cell_type": "code",
      "execution_count": null,
      "metadata": {
        "id": "22a4hGAZSmDO"
      },
      "outputs": [],
      "source": [
        "import numpy as np\n",
        "import pandas as pd\n",
        "import matplotlib.pyplot as plt"
      ]
    },
    {
      "cell_type": "code",
      "source": [
        "data = pd.read_csv(\"MSFT.csv\")\n",
        "print(\"\\n\")"
      ],
      "metadata": {
        "colab": {
          "base_uri": "https://localhost:8080/"
        },
        "id": "_IyWEMBJTGR6",
        "outputId": "3c5bbf06-ded7-44af-d41a-426b219cd340"
      },
      "execution_count": null,
      "outputs": [
        {
          "output_type": "stream",
          "name": "stdout",
          "text": [
            "\n",
            "\n"
          ]
        }
      ]
    },
    {
      "cell_type": "code",
      "source": [
        "from google.colab import drive\n",
        "drive.mount('/content/drive')"
      ],
      "metadata": {
        "id": "NnpTGvBTxCk8",
        "colab": {
          "base_uri": "https://localhost:8080/"
        },
        "outputId": "de49c7b5-0c43-4c97-9082-a8531b700132"
      },
      "execution_count": null,
      "outputs": [
        {
          "output_type": "stream",
          "name": "stdout",
          "text": [
            "Mounted at /content/drive\n"
          ]
        }
      ]
    },
    {
      "cell_type": "markdown",
      "source": [
        "Data Preprocessing\n"
      ],
      "metadata": {
        "id": "dVR01nH7fVon"
      }
    },
    {
      "cell_type": "code",
      "source": [
        "data_cleaned = data.drop_duplicates()  # Remove duplicates\n",
        "data_cleaned = data_cleaned.dropna()   # Remove rows with missing values\n",
        "print(data_cleaned)\n",
        "print(data_cleaned.head())\n"
      ],
      "metadata": {
        "id": "1AW4eFcfZha5",
        "colab": {
          "base_uri": "https://localhost:8080/"
        },
        "outputId": "06aab9c6-dd7e-47dd-932e-e948184dc494"
      },
      "execution_count": null,
      "outputs": [
        {
          "output_type": "stream",
          "name": "stdout",
          "text": [
            "            Date        Open        High         Low       Close   Adj Close  \\\n",
            "0     1986-03-13    0.088542    0.101563    0.088542    0.097222    0.062549   \n",
            "1     1986-03-14    0.097222    0.102431    0.097222    0.100694    0.064783   \n",
            "2     1986-03-17    0.100694    0.103299    0.100694    0.102431    0.065899   \n",
            "3     1986-03-18    0.102431    0.103299    0.098958    0.099826    0.064224   \n",
            "4     1986-03-19    0.099826    0.100694    0.097222    0.098090    0.063107   \n",
            "...          ...         ...         ...         ...         ...         ...   \n",
            "8520  2019-12-31  156.770004  157.770004  156.449997  157.699997  157.699997   \n",
            "8521  2020-01-02  158.779999  160.729996  158.330002  160.619995  160.619995   \n",
            "8522  2020-01-03  158.320007  159.949997  158.059998  158.619995  158.619995   \n",
            "8523  2020-01-06  157.080002  159.100006  156.509995  159.029999  159.029999   \n",
            "8524  2020-01-07  159.320007  159.669998  157.330002  157.580002  157.580002   \n",
            "\n",
            "          Volume  \n",
            "0     1031788800  \n",
            "1      308160000  \n",
            "2      133171200  \n",
            "3       67766400  \n",
            "4       47894400  \n",
            "...          ...  \n",
            "8520    18369400  \n",
            "8521    22622100  \n",
            "8522    21116200  \n",
            "8523    20813700  \n",
            "8524    18017762  \n",
            "\n",
            "[8525 rows x 7 columns]\n",
            "         Date      Open      High       Low     Close  Adj Close      Volume\n",
            "0  1986-03-13  0.088542  0.101563  0.088542  0.097222   0.062549  1031788800\n",
            "1  1986-03-14  0.097222  0.102431  0.097222  0.100694   0.064783   308160000\n",
            "2  1986-03-17  0.100694  0.103299  0.100694  0.102431   0.065899   133171200\n",
            "3  1986-03-18  0.102431  0.103299  0.098958  0.099826   0.064224    67766400\n",
            "4  1986-03-19  0.099826  0.100694  0.097222  0.098090   0.063107    47894400\n"
          ]
        }
      ]
    },
    {
      "cell_type": "code",
      "source": [
        "print(data.columns)\n",
        "\n",
        "closing_price = data['Close']\n",
        "\n",
        "print(closing_price.head())\n"
      ],
      "metadata": {
        "id": "4PQ9GaxBZoKE",
        "colab": {
          "base_uri": "https://localhost:8080/"
        },
        "outputId": "99321aed-bbb4-484e-f613-411372f59932"
      },
      "execution_count": null,
      "outputs": [
        {
          "output_type": "stream",
          "name": "stdout",
          "text": [
            "Index(['Date', 'Open', 'High', 'Low', 'Close', 'Adj Close', 'Volume'], dtype='object')\n",
            "0    0.097222\n",
            "1    0.100694\n",
            "2    0.102431\n",
            "3    0.099826\n",
            "4    0.098090\n",
            "Name: Close, dtype: float64\n"
          ]
        }
      ]
    },
    {
      "cell_type": "markdown",
      "source": [
        "Feature Engineering\n"
      ],
      "metadata": {
        "id": "1R9rJoH9gLa_"
      }
    },
    {
      "cell_type": "code",
      "source": [
        "data['EMA_10'] = data['Close'].ewm(span=10, adjust=False).mean()\n",
        "\n",
        "data['Rolling_20D_Std'] = data['Close'].rolling(window=20).std()\n",
        "\n",
        "print(data[['EMA_10', 'Rolling_20D_Std']])\n"
      ],
      "metadata": {
        "id": "nIKc9OHxfE4y",
        "colab": {
          "base_uri": "https://localhost:8080/"
        },
        "outputId": "a777684d-7472-4cc1-b2d3-361d49112f18"
      },
      "execution_count": null,
      "outputs": [
        {
          "output_type": "stream",
          "name": "stdout",
          "text": [
            "          EMA_10  Rolling_20D_Std\n",
            "0       0.097222              NaN\n",
            "1       0.097853              NaN\n",
            "2       0.098686              NaN\n",
            "3       0.098893              NaN\n",
            "4       0.098747              NaN\n",
            "...          ...              ...\n",
            "8520  156.875304         3.181938\n",
            "8521  157.556157         3.232283\n",
            "8522  157.749582         3.092043\n",
            "8523  157.982385         2.906402\n",
            "8524  157.909225         2.760116\n",
            "\n",
            "[8525 rows x 2 columns]\n"
          ]
        }
      ]
    },
    {
      "cell_type": "markdown",
      "source": [
        "Model Selection and Model Training"
      ],
      "metadata": {
        "id": "pA5H7ed3gkxs"
      }
    },
    {
      "cell_type": "code",
      "source": [
        "import pandas as pd\n",
        "\n",
        "file_path = 'MSFT.csv'\n",
        "train_data = pd.read_csv(file_path)\n",
        "\n",
        "from statsmodels.tsa.arima.model import ARIMA\n",
        "\n",
        "model = ARIMA(train_data['Close'], order=(1, 1, 1))\n",
        "model_fit = model.fit()\n",
        "\n",
        "print(model_fit.summary())\n"
      ],
      "metadata": {
        "id": "U2IuJhswat4P",
        "colab": {
          "base_uri": "https://localhost:8080/"
        },
        "outputId": "070b15a7-1174-4d68-9b60-f7c52d67c8c9"
      },
      "execution_count": 26,
      "outputs": [
        {
          "output_type": "stream",
          "name": "stdout",
          "text": [
            "                               SARIMAX Results                                \n",
            "==============================================================================\n",
            "Dep. Variable:                  Close   No. Observations:                 8525\n",
            "Model:                 ARIMA(1, 1, 1)   Log Likelihood               -8483.279\n",
            "Date:                Sun, 01 Oct 2023   AIC                          16972.558\n",
            "Time:                        15:13:39   BIC                          16993.710\n",
            "Sample:                             0   HQIC                         16979.775\n",
            "                               - 8525                                         \n",
            "Covariance Type:                  opg                                         \n",
            "==============================================================================\n",
            "                 coef    std err          z      P>|z|      [0.025      0.975]\n",
            "------------------------------------------------------------------------------\n",
            "ar.L1          0.5165      0.046     11.142      0.000       0.426       0.607\n",
            "ma.L1         -0.5864      0.044    -13.304      0.000      -0.673      -0.500\n",
            "sigma2         0.4285      0.002    199.776      0.000       0.424       0.433\n",
            "===================================================================================\n",
            "Ljung-Box (L1) (Q):                   0.05   Jarque-Bera (JB):            105382.07\n",
            "Prob(Q):                              0.82   Prob(JB):                         0.00\n",
            "Heteroskedasticity (H):             112.12   Skew:                            -0.23\n",
            "Prob(H) (two-sided):                  0.00   Kurtosis:                        20.22\n",
            "===================================================================================\n",
            "\n",
            "Warnings:\n",
            "[1] Covariance matrix calculated using the outer product of gradients (complex-step).\n"
          ]
        }
      ]
    },
    {
      "cell_type": "markdown",
      "source": [
        "Evaluation"
      ],
      "metadata": {
        "id": "_4snSPydgsjm"
      }
    },
    {
      "cell_type": "code",
      "source": [
        "import pandas as pd\n",
        "\n",
        "\n",
        "test_file_path = 'MSFT.csv'\n",
        "test_data = pd.read_csv(test_file_path)\n",
        "\n",
        "from sklearn.metrics import mean_absolute_error\n",
        "\n",
        "predictions = model_fit.forecast(steps=len(test_data))\n",
        "mae = mean_absolute_error(test_data['Close'], predictions)\n",
        "\n",
        "print(\"Mean Absolute Error (MAE):\", mae)"
      ],
      "metadata": {
        "id": "bGZ_fD9AcpCE",
        "colab": {
          "base_uri": "https://localhost:8080/"
        },
        "outputId": "da3e1667-9cb0-4d68-9e86-b192bd26bf5d"
      },
      "execution_count": 27,
      "outputs": [
        {
          "output_type": "stream",
          "name": "stdout",
          "text": [
            "Mean Absolute Error (MAE): 129.5505266204859\n"
          ]
        }
      ]
    }
  ]
}